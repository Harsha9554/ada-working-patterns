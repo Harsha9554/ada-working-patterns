{
  "nbformat": 4,
  "nbformat_minor": 0,
  "metadata": {
    "colab": {
      "provenance": []
    },
    "kernelspec": {
      "name": "python3",
      "display_name": "Python 3"
    },
    "language_info": {
      "name": "python"
    }
  },
  "cells": [
    {
      "cell_type": "code",
      "execution_count": 35,
      "metadata": {
        "colab": {
          "base_uri": "https://localhost:8080/"
        },
        "id": "UwwAPft9WsjL",
        "outputId": "88d765fd-34fe-4871-f007-426835459548"
      },
      "outputs": [
        {
          "output_type": "stream",
          "name": "stdout",
          "text": [
            "Drive already mounted at /content/drive; to attempt to forcibly remount, call drive.mount(\"/content/drive\", force_remount=True).\n"
          ]
        }
      ],
      "source": [
        " import pandas as pd\n",
        " import json\n",
        " from google.colab import drive\n",
        " drive.mount('/content/drive')"
      ]
    },
    {
      "cell_type": "code",
      "source": [
        "data_path = \"/content/drive/My Drive/final.csv\"\n",
        "df=pd.read_csv(data_path)"
      ],
      "metadata": {
        "id": "SimXfy3AW10-"
      },
      "execution_count": 36,
      "outputs": []
    },
    {
      "cell_type": "code",
      "source": [
        "df.columns"
      ],
      "metadata": {
        "colab": {
          "base_uri": "https://localhost:8080/"
        },
        "id": "ubyq_uXfW579",
        "outputId": "6fa1aead-bd3c-4f20-e293-13fcdb6638f1"
      },
      "execution_count": 37,
      "outputs": [
        {
          "output_type": "execute_result",
          "data": {
            "text/plain": [
              "Index(['id', 'url', 'browser_event', 'platform', 'user', 'task_id',\n",
              "       'assignment_id', 'accepted_at', 'deadline',\n",
              "       'time_to_deadline_in_seconds', 'task_url', 'project_title',\n",
              "       'project_description', 'assignment_duration_in_seconds',\n",
              "       'amount_in_dollars', 'time_started', 'time_taken', 'time_of_day',\n",
              "       'day_of_week'],\n",
              "      dtype='object')"
            ]
          },
          "metadata": {},
          "execution_count": 37
        }
      ]
    },
    {
      "cell_type": "code",
      "source": [
        "df.sample(5)"
      ],
      "metadata": {
        "colab": {
          "base_uri": "https://localhost:8080/",
          "height": 504
        },
        "id": "bLtGCcbMW78L",
        "outputId": "f9235503-4070-47ba-f179-41c8dd1c7330"
      },
      "execution_count": 38,
      "outputs": [
        {
          "output_type": "execute_result",
          "data": {
            "text/plain": [
              "            id                              url browser_event platform  \\\n",
              "61835  2195748  https://worker.mturk.com/tasks/   INTERNALURL    MTURK   \n",
              "12148   325333  https://worker.mturk.com/tasks/   EXTERNALURL    MTURK   \n",
              "32944  1069534  https://worker.mturk.com/tasks/   EXTERNALURL    MTURK   \n",
              "65204  2385239  https://worker.mturk.com/tasks/   INTERNALURL    MTURK   \n",
              "33074  1075551  https://worker.mturk.com/tasks/   EXTERNALURL    MTURK   \n",
              "\n",
              "                                   user                         task_id  \\\n",
              "61835   ceef928ee76bf9a879d35998e60a4be  3ZICQFRS45S2V5OREZT6UN26I0ZZZX   \n",
              "12148   1fbbe51c2b7814f7810188ddc19f4ed  3SA4EMRVJWQBGH9V85JJALYIJ9QP0R   \n",
              "32944  2a1d22d7101b7b66e06530c86d1b57b0  3W1K7D6QSC56E8EBTUEAL0WFKDRZB7   \n",
              "65204   f2687f9a5c9a26cc8936b2d93be8ec8  3D06DR5225R1KP29Y45Y8IH5RCNMAJ   \n",
              "33074    ab6c2eab2d5214e4a5205e2b7aa8db  31JUPBOORN4B5TVXBDPO2YBF2QX8LC   \n",
              "\n",
              "                        assignment_id               accepted_at  \\\n",
              "61835  3CPLWGV3MT9VV9QPXFUFAWOP7JT9NQ  2020-05-15T20:54:49.000Z   \n",
              "12148  3OONKJ5DKE7W2OYXHN8UTMLVJQLBO1  2020-05-11T23:52:45.000Z   \n",
              "32944  3DZQRBDBSN36XLMD9BAXV8XKTQVS3F  2020-05-13T18:45:25.000Z   \n",
              "65204  30IQTZXKALEJ081PABFGJDHCMO20XZ  2020-05-16T09:04:11.000Z   \n",
              "33074  33PPO7FECVFNI7HBXK8TLUT9937IDM  2020-05-13T19:03:51.000Z   \n",
              "\n",
              "                       deadline  time_to_deadline_in_seconds  \\\n",
              "61835  2020-05-15T22:54:49.000Z                       7176.0   \n",
              "12148  2020-05-12T00:52:45.000Z                       3582.0   \n",
              "32944  2020-05-13T18:50:25.000Z                        291.0   \n",
              "65204  2020-05-16T10:04:11.000Z                       3456.0   \n",
              "33074  2020-05-13T20:03:51.000Z                       3591.0   \n",
              "\n",
              "                                                task_url  \\\n",
              "61835  /projects/329HSLC9XH7HI3S41QALJR2IW9SHGB/tasks...   \n",
              "12148  /projects/3YR6VNT536OOZY7GS4W14YO2887B7Y/tasks...   \n",
              "32944  /projects/3V7AFCJQIEBMX1K5KSYY6BKM0KVA4A/tasks...   \n",
              "65204  /projects/3X9FJ610BWX20DIZOSS3HXC88RR1WR/tasks...   \n",
              "33074  /projects/32SOQFN7RN5VQKKJUW4W7NZ0WR2IP8/tasks...   \n",
              "\n",
              "                                           project_title  \\\n",
              "61835  8-10 min Survey about Health Messages (*NOT co...   \n",
              "12148  Bounding boxes: These images have been pre sor...   \n",
              "32944                Please draw a box around each Bird.   \n",
              "65204  Scientific Journal Abstract Analysis (~2 minut...   \n",
              "33074        Pay and Envy in the Workplace(~ 20 minutes)   \n",
              "\n",
              "                                     project_description  \\\n",
              "61835  You may be shown a series of health messages, ...   \n",
              "12148  Draw bounding boxes around specified objects i...   \n",
              "32944  Dear Annotator, please draw a box around each ...   \n",
              "65204  Read an abstract and classify whether the find...   \n",
              "33074  You will read a scenario about a company, empl...   \n",
              "\n",
              "       assignment_duration_in_seconds  amount_in_dollars  \\\n",
              "61835                          7200.0               1.20   \n",
              "12148                          3600.0               0.03   \n",
              "32944                           300.0               0.03   \n",
              "65204                          3600.0               0.15   \n",
              "33074                          3600.0               1.60   \n",
              "\n",
              "                  time_started  time_taken time_of_day day_of_week  \n",
              "61835  2020-05-15 20:55:13.700     330.091     Evening      Friday  \n",
              "12148  2020-05-11 23:53:04.329      89.456     Evening      Monday  \n",
              "32944  2020-05-13 18:45:32.197     149.744     Evening   Wednesday  \n",
              "65204  2020-05-16 09:04:21.417   20986.538     Morning    Saturday  \n",
              "33074  2020-05-13 19:04:01.401    3569.940     Evening   Wednesday  "
            ],
            "text/html": [
              "\n",
              "  <div id=\"df-e971299d-7f92-47c9-97d9-23cca9db4eba\" class=\"colab-df-container\">\n",
              "    <div>\n",
              "<style scoped>\n",
              "    .dataframe tbody tr th:only-of-type {\n",
              "        vertical-align: middle;\n",
              "    }\n",
              "\n",
              "    .dataframe tbody tr th {\n",
              "        vertical-align: top;\n",
              "    }\n",
              "\n",
              "    .dataframe thead th {\n",
              "        text-align: right;\n",
              "    }\n",
              "</style>\n",
              "<table border=\"1\" class=\"dataframe\">\n",
              "  <thead>\n",
              "    <tr style=\"text-align: right;\">\n",
              "      <th></th>\n",
              "      <th>id</th>\n",
              "      <th>url</th>\n",
              "      <th>browser_event</th>\n",
              "      <th>platform</th>\n",
              "      <th>user</th>\n",
              "      <th>task_id</th>\n",
              "      <th>assignment_id</th>\n",
              "      <th>accepted_at</th>\n",
              "      <th>deadline</th>\n",
              "      <th>time_to_deadline_in_seconds</th>\n",
              "      <th>task_url</th>\n",
              "      <th>project_title</th>\n",
              "      <th>project_description</th>\n",
              "      <th>assignment_duration_in_seconds</th>\n",
              "      <th>amount_in_dollars</th>\n",
              "      <th>time_started</th>\n",
              "      <th>time_taken</th>\n",
              "      <th>time_of_day</th>\n",
              "      <th>day_of_week</th>\n",
              "    </tr>\n",
              "  </thead>\n",
              "  <tbody>\n",
              "    <tr>\n",
              "      <th>61835</th>\n",
              "      <td>2195748</td>\n",
              "      <td>https://worker.mturk.com/tasks/</td>\n",
              "      <td>INTERNALURL</td>\n",
              "      <td>MTURK</td>\n",
              "      <td>ceef928ee76bf9a879d35998e60a4be</td>\n",
              "      <td>3ZICQFRS45S2V5OREZT6UN26I0ZZZX</td>\n",
              "      <td>3CPLWGV3MT9VV9QPXFUFAWOP7JT9NQ</td>\n",
              "      <td>2020-05-15T20:54:49.000Z</td>\n",
              "      <td>2020-05-15T22:54:49.000Z</td>\n",
              "      <td>7176.0</td>\n",
              "      <td>/projects/329HSLC9XH7HI3S41QALJR2IW9SHGB/tasks...</td>\n",
              "      <td>8-10 min Survey about Health Messages (*NOT co...</td>\n",
              "      <td>You may be shown a series of health messages, ...</td>\n",
              "      <td>7200.0</td>\n",
              "      <td>1.20</td>\n",
              "      <td>2020-05-15 20:55:13.700</td>\n",
              "      <td>330.091</td>\n",
              "      <td>Evening</td>\n",
              "      <td>Friday</td>\n",
              "    </tr>\n",
              "    <tr>\n",
              "      <th>12148</th>\n",
              "      <td>325333</td>\n",
              "      <td>https://worker.mturk.com/tasks/</td>\n",
              "      <td>EXTERNALURL</td>\n",
              "      <td>MTURK</td>\n",
              "      <td>1fbbe51c2b7814f7810188ddc19f4ed</td>\n",
              "      <td>3SA4EMRVJWQBGH9V85JJALYIJ9QP0R</td>\n",
              "      <td>3OONKJ5DKE7W2OYXHN8UTMLVJQLBO1</td>\n",
              "      <td>2020-05-11T23:52:45.000Z</td>\n",
              "      <td>2020-05-12T00:52:45.000Z</td>\n",
              "      <td>3582.0</td>\n",
              "      <td>/projects/3YR6VNT536OOZY7GS4W14YO2887B7Y/tasks...</td>\n",
              "      <td>Bounding boxes: These images have been pre sor...</td>\n",
              "      <td>Draw bounding boxes around specified objects i...</td>\n",
              "      <td>3600.0</td>\n",
              "      <td>0.03</td>\n",
              "      <td>2020-05-11 23:53:04.329</td>\n",
              "      <td>89.456</td>\n",
              "      <td>Evening</td>\n",
              "      <td>Monday</td>\n",
              "    </tr>\n",
              "    <tr>\n",
              "      <th>32944</th>\n",
              "      <td>1069534</td>\n",
              "      <td>https://worker.mturk.com/tasks/</td>\n",
              "      <td>EXTERNALURL</td>\n",
              "      <td>MTURK</td>\n",
              "      <td>2a1d22d7101b7b66e06530c86d1b57b0</td>\n",
              "      <td>3W1K7D6QSC56E8EBTUEAL0WFKDRZB7</td>\n",
              "      <td>3DZQRBDBSN36XLMD9BAXV8XKTQVS3F</td>\n",
              "      <td>2020-05-13T18:45:25.000Z</td>\n",
              "      <td>2020-05-13T18:50:25.000Z</td>\n",
              "      <td>291.0</td>\n",
              "      <td>/projects/3V7AFCJQIEBMX1K5KSYY6BKM0KVA4A/tasks...</td>\n",
              "      <td>Please draw a box around each Bird.</td>\n",
              "      <td>Dear Annotator, please draw a box around each ...</td>\n",
              "      <td>300.0</td>\n",
              "      <td>0.03</td>\n",
              "      <td>2020-05-13 18:45:32.197</td>\n",
              "      <td>149.744</td>\n",
              "      <td>Evening</td>\n",
              "      <td>Wednesday</td>\n",
              "    </tr>\n",
              "    <tr>\n",
              "      <th>65204</th>\n",
              "      <td>2385239</td>\n",
              "      <td>https://worker.mturk.com/tasks/</td>\n",
              "      <td>INTERNALURL</td>\n",
              "      <td>MTURK</td>\n",
              "      <td>f2687f9a5c9a26cc8936b2d93be8ec8</td>\n",
              "      <td>3D06DR5225R1KP29Y45Y8IH5RCNMAJ</td>\n",
              "      <td>30IQTZXKALEJ081PABFGJDHCMO20XZ</td>\n",
              "      <td>2020-05-16T09:04:11.000Z</td>\n",
              "      <td>2020-05-16T10:04:11.000Z</td>\n",
              "      <td>3456.0</td>\n",
              "      <td>/projects/3X9FJ610BWX20DIZOSS3HXC88RR1WR/tasks...</td>\n",
              "      <td>Scientific Journal Abstract Analysis (~2 minut...</td>\n",
              "      <td>Read an abstract and classify whether the find...</td>\n",
              "      <td>3600.0</td>\n",
              "      <td>0.15</td>\n",
              "      <td>2020-05-16 09:04:21.417</td>\n",
              "      <td>20986.538</td>\n",
              "      <td>Morning</td>\n",
              "      <td>Saturday</td>\n",
              "    </tr>\n",
              "    <tr>\n",
              "      <th>33074</th>\n",
              "      <td>1075551</td>\n",
              "      <td>https://worker.mturk.com/tasks/</td>\n",
              "      <td>EXTERNALURL</td>\n",
              "      <td>MTURK</td>\n",
              "      <td>ab6c2eab2d5214e4a5205e2b7aa8db</td>\n",
              "      <td>31JUPBOORN4B5TVXBDPO2YBF2QX8LC</td>\n",
              "      <td>33PPO7FECVFNI7HBXK8TLUT9937IDM</td>\n",
              "      <td>2020-05-13T19:03:51.000Z</td>\n",
              "      <td>2020-05-13T20:03:51.000Z</td>\n",
              "      <td>3591.0</td>\n",
              "      <td>/projects/32SOQFN7RN5VQKKJUW4W7NZ0WR2IP8/tasks...</td>\n",
              "      <td>Pay and Envy in the Workplace(~ 20 minutes)</td>\n",
              "      <td>You will read a scenario about a company, empl...</td>\n",
              "      <td>3600.0</td>\n",
              "      <td>1.60</td>\n",
              "      <td>2020-05-13 19:04:01.401</td>\n",
              "      <td>3569.940</td>\n",
              "      <td>Evening</td>\n",
              "      <td>Wednesday</td>\n",
              "    </tr>\n",
              "  </tbody>\n",
              "</table>\n",
              "</div>\n",
              "    <div class=\"colab-df-buttons\">\n",
              "\n",
              "  <div class=\"colab-df-container\">\n",
              "    <button class=\"colab-df-convert\" onclick=\"convertToInteractive('df-e971299d-7f92-47c9-97d9-23cca9db4eba')\"\n",
              "            title=\"Convert this dataframe to an interactive table.\"\n",
              "            style=\"display:none;\">\n",
              "\n",
              "  <svg xmlns=\"http://www.w3.org/2000/svg\" height=\"24px\" viewBox=\"0 -960 960 960\">\n",
              "    <path d=\"M120-120v-720h720v720H120Zm60-500h600v-160H180v160Zm220 220h160v-160H400v160Zm0 220h160v-160H400v160ZM180-400h160v-160H180v160Zm440 0h160v-160H620v160ZM180-180h160v-160H180v160Zm440 0h160v-160H620v160Z\"/>\n",
              "  </svg>\n",
              "    </button>\n",
              "\n",
              "  <style>\n",
              "    .colab-df-container {\n",
              "      display:flex;\n",
              "      gap: 12px;\n",
              "    }\n",
              "\n",
              "    .colab-df-convert {\n",
              "      background-color: #E8F0FE;\n",
              "      border: none;\n",
              "      border-radius: 50%;\n",
              "      cursor: pointer;\n",
              "      display: none;\n",
              "      fill: #1967D2;\n",
              "      height: 32px;\n",
              "      padding: 0 0 0 0;\n",
              "      width: 32px;\n",
              "    }\n",
              "\n",
              "    .colab-df-convert:hover {\n",
              "      background-color: #E2EBFA;\n",
              "      box-shadow: 0px 1px 2px rgba(60, 64, 67, 0.3), 0px 1px 3px 1px rgba(60, 64, 67, 0.15);\n",
              "      fill: #174EA6;\n",
              "    }\n",
              "\n",
              "    .colab-df-buttons div {\n",
              "      margin-bottom: 4px;\n",
              "    }\n",
              "\n",
              "    [theme=dark] .colab-df-convert {\n",
              "      background-color: #3B4455;\n",
              "      fill: #D2E3FC;\n",
              "    }\n",
              "\n",
              "    [theme=dark] .colab-df-convert:hover {\n",
              "      background-color: #434B5C;\n",
              "      box-shadow: 0px 1px 3px 1px rgba(0, 0, 0, 0.15);\n",
              "      filter: drop-shadow(0px 1px 2px rgba(0, 0, 0, 0.3));\n",
              "      fill: #FFFFFF;\n",
              "    }\n",
              "  </style>\n",
              "\n",
              "    <script>\n",
              "      const buttonEl =\n",
              "        document.querySelector('#df-e971299d-7f92-47c9-97d9-23cca9db4eba button.colab-df-convert');\n",
              "      buttonEl.style.display =\n",
              "        google.colab.kernel.accessAllowed ? 'block' : 'none';\n",
              "\n",
              "      async function convertToInteractive(key) {\n",
              "        const element = document.querySelector('#df-e971299d-7f92-47c9-97d9-23cca9db4eba');\n",
              "        const dataTable =\n",
              "          await google.colab.kernel.invokeFunction('convertToInteractive',\n",
              "                                                    [key], {});\n",
              "        if (!dataTable) return;\n",
              "\n",
              "        const docLinkHtml = 'Like what you see? Visit the ' +\n",
              "          '<a target=\"_blank\" href=https://colab.research.google.com/notebooks/data_table.ipynb>data table notebook</a>'\n",
              "          + ' to learn more about interactive tables.';\n",
              "        element.innerHTML = '';\n",
              "        dataTable['output_type'] = 'display_data';\n",
              "        await google.colab.output.renderOutput(dataTable, element);\n",
              "        const docLink = document.createElement('div');\n",
              "        docLink.innerHTML = docLinkHtml;\n",
              "        element.appendChild(docLink);\n",
              "      }\n",
              "    </script>\n",
              "  </div>\n",
              "\n",
              "\n",
              "<div id=\"df-0fb2792e-3e6c-4676-a328-e21391487ffd\">\n",
              "  <button class=\"colab-df-quickchart\" onclick=\"quickchart('df-0fb2792e-3e6c-4676-a328-e21391487ffd')\"\n",
              "            title=\"Suggest charts\"\n",
              "            style=\"display:none;\">\n",
              "\n",
              "<svg xmlns=\"http://www.w3.org/2000/svg\" height=\"24px\"viewBox=\"0 0 24 24\"\n",
              "     width=\"24px\">\n",
              "    <g>\n",
              "        <path d=\"M19 3H5c-1.1 0-2 .9-2 2v14c0 1.1.9 2 2 2h14c1.1 0 2-.9 2-2V5c0-1.1-.9-2-2-2zM9 17H7v-7h2v7zm4 0h-2V7h2v10zm4 0h-2v-4h2v4z\"/>\n",
              "    </g>\n",
              "</svg>\n",
              "  </button>\n",
              "\n",
              "<style>\n",
              "  .colab-df-quickchart {\n",
              "      --bg-color: #E8F0FE;\n",
              "      --fill-color: #1967D2;\n",
              "      --hover-bg-color: #E2EBFA;\n",
              "      --hover-fill-color: #174EA6;\n",
              "      --disabled-fill-color: #AAA;\n",
              "      --disabled-bg-color: #DDD;\n",
              "  }\n",
              "\n",
              "  [theme=dark] .colab-df-quickchart {\n",
              "      --bg-color: #3B4455;\n",
              "      --fill-color: #D2E3FC;\n",
              "      --hover-bg-color: #434B5C;\n",
              "      --hover-fill-color: #FFFFFF;\n",
              "      --disabled-bg-color: #3B4455;\n",
              "      --disabled-fill-color: #666;\n",
              "  }\n",
              "\n",
              "  .colab-df-quickchart {\n",
              "    background-color: var(--bg-color);\n",
              "    border: none;\n",
              "    border-radius: 50%;\n",
              "    cursor: pointer;\n",
              "    display: none;\n",
              "    fill: var(--fill-color);\n",
              "    height: 32px;\n",
              "    padding: 0;\n",
              "    width: 32px;\n",
              "  }\n",
              "\n",
              "  .colab-df-quickchart:hover {\n",
              "    background-color: var(--hover-bg-color);\n",
              "    box-shadow: 0 1px 2px rgba(60, 64, 67, 0.3), 0 1px 3px 1px rgba(60, 64, 67, 0.15);\n",
              "    fill: var(--button-hover-fill-color);\n",
              "  }\n",
              "\n",
              "  .colab-df-quickchart-complete:disabled,\n",
              "  .colab-df-quickchart-complete:disabled:hover {\n",
              "    background-color: var(--disabled-bg-color);\n",
              "    fill: var(--disabled-fill-color);\n",
              "    box-shadow: none;\n",
              "  }\n",
              "\n",
              "  .colab-df-spinner {\n",
              "    border: 2px solid var(--fill-color);\n",
              "    border-color: transparent;\n",
              "    border-bottom-color: var(--fill-color);\n",
              "    animation:\n",
              "      spin 1s steps(1) infinite;\n",
              "  }\n",
              "\n",
              "  @keyframes spin {\n",
              "    0% {\n",
              "      border-color: transparent;\n",
              "      border-bottom-color: var(--fill-color);\n",
              "      border-left-color: var(--fill-color);\n",
              "    }\n",
              "    20% {\n",
              "      border-color: transparent;\n",
              "      border-left-color: var(--fill-color);\n",
              "      border-top-color: var(--fill-color);\n",
              "    }\n",
              "    30% {\n",
              "      border-color: transparent;\n",
              "      border-left-color: var(--fill-color);\n",
              "      border-top-color: var(--fill-color);\n",
              "      border-right-color: var(--fill-color);\n",
              "    }\n",
              "    40% {\n",
              "      border-color: transparent;\n",
              "      border-right-color: var(--fill-color);\n",
              "      border-top-color: var(--fill-color);\n",
              "    }\n",
              "    60% {\n",
              "      border-color: transparent;\n",
              "      border-right-color: var(--fill-color);\n",
              "    }\n",
              "    80% {\n",
              "      border-color: transparent;\n",
              "      border-right-color: var(--fill-color);\n",
              "      border-bottom-color: var(--fill-color);\n",
              "    }\n",
              "    90% {\n",
              "      border-color: transparent;\n",
              "      border-bottom-color: var(--fill-color);\n",
              "    }\n",
              "  }\n",
              "</style>\n",
              "\n",
              "  <script>\n",
              "    async function quickchart(key) {\n",
              "      const quickchartButtonEl =\n",
              "        document.querySelector('#' + key + ' button');\n",
              "      quickchartButtonEl.disabled = true;  // To prevent multiple clicks.\n",
              "      quickchartButtonEl.classList.add('colab-df-spinner');\n",
              "      try {\n",
              "        const charts = await google.colab.kernel.invokeFunction(\n",
              "            'suggestCharts', [key], {});\n",
              "      } catch (error) {\n",
              "        console.error('Error during call to suggestCharts:', error);\n",
              "      }\n",
              "      quickchartButtonEl.classList.remove('colab-df-spinner');\n",
              "      quickchartButtonEl.classList.add('colab-df-quickchart-complete');\n",
              "    }\n",
              "    (() => {\n",
              "      let quickchartButtonEl =\n",
              "        document.querySelector('#df-0fb2792e-3e6c-4676-a328-e21391487ffd button');\n",
              "      quickchartButtonEl.style.display =\n",
              "        google.colab.kernel.accessAllowed ? 'block' : 'none';\n",
              "    })();\n",
              "  </script>\n",
              "</div>\n",
              "    </div>\n",
              "  </div>\n"
            ],
            "application/vnd.google.colaboratory.intrinsic+json": {
              "type": "dataframe",
              "repr_error": "0"
            }
          },
          "metadata": {},
          "execution_count": 38
        }
      ]
    },
    {
      "cell_type": "markdown",
      "source": [
        "# Model - RandomForestRegressor\n",
        "\n",
        "\n"
      ],
      "metadata": {
        "id": "O0uYyvtiYjv_"
      }
    },
    {
      "cell_type": "code",
      "source": [
        "from sklearn.ensemble import RandomForestRegressor\n",
        "from sklearn.model_selection import train_test_split\n",
        "from sklearn.preprocessing import LabelEncoder\n",
        "\n",
        "# Assuming df is your DataFrame and the columns have been appropriately preprocessed\n",
        "features = ['amount_in_dollars', 'assignment_duration_in_seconds', 'day_of_week', 'time_of_day', 'browser_event', 'project_title']\n",
        "X = df[features]\n",
        "y = df['time_taken']\n",
        "\n",
        "# Convert categorical variables to numerical\n",
        "le = LabelEncoder()\n",
        "X['project_title'] = le.fit_transform(X['project_title'])\n",
        "X['browser_event'] = le.fit_transform(X['browser_event'])\n",
        "X['day_of_week'] = le.fit_transform(X['day_of_week'])\n",
        "X['time_of_day'] = le.fit_transform(X['time_of_day'])\n",
        "\n",
        "# Split the data into training and test sets\n",
        "X_train, X_test, y_train, y_test = train_test_split(X, y, test_size=0.2, random_state=42)\n",
        "\n",
        "# Create the model\n",
        "model = RandomForestRegressor(n_estimators=100, random_state=42)\n",
        "\n",
        "# Train the model\n",
        "model.fit(X_train, y_train)\n",
        "\n",
        "# Make predictions on the test set\n",
        "predictions = model.predict(X_test)\n"
      ],
      "metadata": {
        "id": "SwWjKsXVYl2Y",
        "colab": {
          "base_uri": "https://localhost:8080/"
        },
        "outputId": "c96d8da6-4b53-4f73-c677-94fafef09630"
      },
      "execution_count": 39,
      "outputs": [
        {
          "output_type": "stream",
          "name": "stderr",
          "text": [
            "<ipython-input-39-78f4dcd57c48>:12: SettingWithCopyWarning: \n",
            "A value is trying to be set on a copy of a slice from a DataFrame.\n",
            "Try using .loc[row_indexer,col_indexer] = value instead\n",
            "\n",
            "See the caveats in the documentation: https://pandas.pydata.org/pandas-docs/stable/user_guide/indexing.html#returning-a-view-versus-a-copy\n",
            "  X['project_title'] = le.fit_transform(X['project_title'])\n",
            "<ipython-input-39-78f4dcd57c48>:13: SettingWithCopyWarning: \n",
            "A value is trying to be set on a copy of a slice from a DataFrame.\n",
            "Try using .loc[row_indexer,col_indexer] = value instead\n",
            "\n",
            "See the caveats in the documentation: https://pandas.pydata.org/pandas-docs/stable/user_guide/indexing.html#returning-a-view-versus-a-copy\n",
            "  X['browser_event'] = le.fit_transform(X['browser_event'])\n",
            "<ipython-input-39-78f4dcd57c48>:14: SettingWithCopyWarning: \n",
            "A value is trying to be set on a copy of a slice from a DataFrame.\n",
            "Try using .loc[row_indexer,col_indexer] = value instead\n",
            "\n",
            "See the caveats in the documentation: https://pandas.pydata.org/pandas-docs/stable/user_guide/indexing.html#returning-a-view-versus-a-copy\n",
            "  X['day_of_week'] = le.fit_transform(X['day_of_week'])\n",
            "<ipython-input-39-78f4dcd57c48>:15: SettingWithCopyWarning: \n",
            "A value is trying to be set on a copy of a slice from a DataFrame.\n",
            "Try using .loc[row_indexer,col_indexer] = value instead\n",
            "\n",
            "See the caveats in the documentation: https://pandas.pydata.org/pandas-docs/stable/user_guide/indexing.html#returning-a-view-versus-a-copy\n",
            "  X['time_of_day'] = le.fit_transform(X['time_of_day'])\n"
          ]
        }
      ]
    },
    {
      "cell_type": "code",
      "source": [
        "from sklearn.metrics import mean_absolute_error, mean_squared_error, r2_score\n",
        "\n",
        "# Calculate the Mean Absolute Error of your predictions\n",
        "mae = mean_absolute_error(y_test, predictions)\n",
        "print(f\"Mean Absolute Error (MAE): {mae}\")\n",
        "\n",
        "# Calculate the Mean Squared Error of your predictions\n",
        "mse = mean_squared_error(y_test, predictions)\n",
        "print(f\"Mean Squared Error (MSE): {mse}\")\n",
        "\n",
        "# Calculate the R-squared score of your predictions\n",
        "r2 = r2_score(y_test, predictions)\n",
        "print(f\"R-squared (R²): {r2}\")\n"
      ],
      "metadata": {
        "colab": {
          "base_uri": "https://localhost:8080/"
        },
        "id": "z_HlKHUFis4n",
        "outputId": "a17341e2-efaa-4e54-8f9c-706cb1c146da"
      },
      "execution_count": 40,
      "outputs": [
        {
          "output_type": "stream",
          "name": "stdout",
          "text": [
            "Mean Absolute Error (MAE): 1000.9743081213729\n",
            "Mean Squared Error (MSE): 58688606.24892872\n",
            "R-squared (R²): 0.8474433519040213\n"
          ]
        }
      ]
    },
    {
      "cell_type": "code",
      "source": [
        "df.columns"
      ],
      "metadata": {
        "colab": {
          "base_uri": "https://localhost:8080/"
        },
        "id": "1EN22vZxnOIR",
        "outputId": "83eca353-122b-4559-bf0e-7e5780fb4ee5"
      },
      "execution_count": 41,
      "outputs": [
        {
          "output_type": "execute_result",
          "data": {
            "text/plain": [
              "Index(['id', 'url', 'browser_event', 'platform', 'user', 'task_id',\n",
              "       'assignment_id', 'accepted_at', 'deadline',\n",
              "       'time_to_deadline_in_seconds', 'task_url', 'project_title',\n",
              "       'project_description', 'assignment_duration_in_seconds',\n",
              "       'amount_in_dollars', 'time_started', 'time_taken', 'time_of_day',\n",
              "       'day_of_week'],\n",
              "      dtype='object')"
            ]
          },
          "metadata": {},
          "execution_count": 41
        }
      ]
    },
    {
      "cell_type": "code",
      "source": [
        "import pandas as pd\n",
        "\n",
        "le_day_of_week = LabelEncoder()\n",
        "le_time_of_day = LabelEncoder()\n",
        "le_browser_event = LabelEncoder()\n",
        "le_project_title = LabelEncoder()\n",
        "# Fit the LabelEncoders on the entire dataset\n",
        "le_day_of_week.fit(df['day_of_week'])\n",
        "le_time_of_day.fit(df['time_of_day'])\n",
        "le_browser_event.fit(df['browser_event'])\n",
        "le_project_title.fit(df['project_title'])\n",
        "\n",
        "features = ['amount_in_dollars', 'assignment_duration_in_seconds', 'day_of_week', 'time_of_day', 'browser_event', 'project_title']\n",
        "# Create a new DataFrame with your input data\n",
        "input_df = df[features].sample(1)\n",
        "\n",
        "\n",
        "# Convert categorical variables to numerical\n",
        "input_df['day_of_week'] = le_day_of_week.transform(input_df['day_of_week'])\n",
        "input_df['time_of_day'] = le_time_of_day.transform(input_df['time_of_day'])\n",
        "input_df['browser_event'] = le_browser_event.transform(input_df['browser_event'])\n",
        "input_df['project_title'] = le_project_title.transform(input_df['project_title'])\n",
        "\n",
        "# Use the model to make predictions\n",
        "predicted_time_taken = model.predict(input_df)\n",
        "\n",
        "print(f\"Predicted time taken: {predicted_time_taken}\")\n"
      ],
      "metadata": {
        "colab": {
          "base_uri": "https://localhost:8080/"
        },
        "id": "inHyp55OnE2s",
        "outputId": "0780ca0e-c16d-4201-975a-bc97f66eae1f"
      },
      "execution_count": 42,
      "outputs": [
        {
          "output_type": "stream",
          "name": "stdout",
          "text": [
            "Predicted time taken: [2823.44772048]\n"
          ]
        }
      ]
    },
    {
      "cell_type": "code",
      "source": [
        "\n",
        "le_day_of_week = LabelEncoder()\n",
        "le_time_of_day = LabelEncoder()\n",
        "le_browser_event = LabelEncoder()\n",
        "le_project_title = LabelEncoder()\n",
        "# Fit the LabelEncoders on the entire dataset\n",
        "le_day_of_week.fit(df['day_of_week'])\n",
        "le_time_of_day.fit(df['time_of_day'])\n",
        "le_browser_event.fit(df['browser_event'])\n",
        "le_project_title.fit(df['project_title'])\n",
        "\n",
        "features = ['amount_in_dollars', 'assignment_duration_in_seconds', 'day_of_week', 'time_of_day', 'browser_event', 'project_title']\n",
        "# Create a new DataFrame with your input data\n",
        "input_df = df.sample(3)\n",
        "original_df = input_df.copy()\n",
        "input_df = input_df[features]\n",
        "\n",
        "\n",
        "# Convert categorical variables to numerical\n",
        "input_df['day_of_week'] = le_day_of_week.transform(input_df['day_of_week'])\n",
        "input_df['time_of_day'] = le_time_of_day.transform(input_df['time_of_day'])\n",
        "input_df['browser_event'] = le_browser_event.transform(input_df['browser_event'])\n",
        "input_df['project_title'] = le_project_title.transform(input_df['project_title'])\n",
        "\n",
        "# Use the model to make predictions\n",
        "predicted_time_taken = model.predict(input_df)\n",
        "\n",
        "print(f\"Predicted time taken: {predicted_time_taken}\")\n",
        "\n",
        "# Transform the input dataframe\n",
        "input_df['day_of_week'] = le_day_of_week.transform(input_df['day_of_week'])\n",
        "input_df['time_of_day'] = le_time_of_day.transform(input_df['time_of_day'])\n",
        "input_df['browser_event'] = le_browser_event.transform(input_df['browser_event'])\n",
        "input_df['project_title'] = le_project_title.transform(input_df['project_title'])\n",
        "\n",
        "# Use the model to make predictions\n",
        "predicted_time_taken = model.predict(input_df)\n",
        "\n",
        "# Add the predicted time taken to the original dataframe\n",
        "original_df['predicted_time_taken'] = predicted_time_taken\n",
        "\n",
        "# Print each row in a formatted manner\n",
        "for index, row in original_df.iterrows():\n",
        "    print(f\"Input Features:\")\n",
        "    print(f\"Amount in dollars: {row['amount_in_dollars']}\")\n",
        "    print(f\"Assignment duration in seconds: {row['assignment_duration_in_seconds']}\")\n",
        "    print(f\"Day of week: {row['day_of_week']}\")\n",
        "    print(f\"Time of day: {row['time_of_day']}\")\n",
        "    print(f\"Browser event: {row['browser_event']}\")\n",
        "    print(f\"Project title: {row['project_title']}\")\n",
        "    print(f\"Predicted time taken: {row['predicted_time_taken']}\\n\")\n"
      ],
      "metadata": {
        "colab": {
          "base_uri": "https://localhost:8080/",
          "height": 425
        },
        "id": "0PsQKlkeW_Qb",
        "outputId": "c8b9038e-1ae7-435d-bfb3-f2b294857a4f"
      },
      "execution_count": 46,
      "outputs": [
        {
          "output_type": "stream",
          "name": "stdout",
          "text": [
            "Predicted time taken: [ 70.34322064 147.63391726 180.78360443]\n"
          ]
        },
        {
          "output_type": "error",
          "ename": "ValueError",
          "evalue": "y contains previously unseen labels: 1",
          "traceback": [
            "\u001b[0;31m---------------------------------------------------------------------------\u001b[0m",
            "\u001b[0;31mKeyError\u001b[0m                                  Traceback (most recent call last)",
            "\u001b[0;32m/usr/local/lib/python3.10/dist-packages/sklearn/utils/_encode.py\u001b[0m in \u001b[0;36m_encode\u001b[0;34m(values, uniques, check_unknown)\u001b[0m\n\u001b[1;32m    223\u001b[0m         \u001b[0;32mtry\u001b[0m\u001b[0;34m:\u001b[0m\u001b[0;34m\u001b[0m\u001b[0;34m\u001b[0m\u001b[0m\n\u001b[0;32m--> 224\u001b[0;31m             \u001b[0;32mreturn\u001b[0m \u001b[0m_map_to_integer\u001b[0m\u001b[0;34m(\u001b[0m\u001b[0mvalues\u001b[0m\u001b[0;34m,\u001b[0m \u001b[0muniques\u001b[0m\u001b[0;34m)\u001b[0m\u001b[0;34m\u001b[0m\u001b[0;34m\u001b[0m\u001b[0m\n\u001b[0m\u001b[1;32m    225\u001b[0m         \u001b[0;32mexcept\u001b[0m \u001b[0mKeyError\u001b[0m \u001b[0;32mas\u001b[0m \u001b[0me\u001b[0m\u001b[0;34m:\u001b[0m\u001b[0;34m\u001b[0m\u001b[0;34m\u001b[0m\u001b[0m\n",
            "\u001b[0;32m/usr/local/lib/python3.10/dist-packages/sklearn/utils/_encode.py\u001b[0m in \u001b[0;36m_map_to_integer\u001b[0;34m(values, uniques)\u001b[0m\n\u001b[1;32m    163\u001b[0m     \u001b[0mtable\u001b[0m \u001b[0;34m=\u001b[0m \u001b[0m_nandict\u001b[0m\u001b[0;34m(\u001b[0m\u001b[0;34m{\u001b[0m\u001b[0mval\u001b[0m\u001b[0;34m:\u001b[0m \u001b[0mi\u001b[0m \u001b[0;32mfor\u001b[0m \u001b[0mi\u001b[0m\u001b[0;34m,\u001b[0m \u001b[0mval\u001b[0m \u001b[0;32min\u001b[0m \u001b[0menumerate\u001b[0m\u001b[0;34m(\u001b[0m\u001b[0muniques\u001b[0m\u001b[0;34m)\u001b[0m\u001b[0;34m}\u001b[0m\u001b[0;34m)\u001b[0m\u001b[0;34m\u001b[0m\u001b[0;34m\u001b[0m\u001b[0m\n\u001b[0;32m--> 164\u001b[0;31m     \u001b[0;32mreturn\u001b[0m \u001b[0mnp\u001b[0m\u001b[0;34m.\u001b[0m\u001b[0marray\u001b[0m\u001b[0;34m(\u001b[0m\u001b[0;34m[\u001b[0m\u001b[0mtable\u001b[0m\u001b[0;34m[\u001b[0m\u001b[0mv\u001b[0m\u001b[0;34m]\u001b[0m \u001b[0;32mfor\u001b[0m \u001b[0mv\u001b[0m \u001b[0;32min\u001b[0m \u001b[0mvalues\u001b[0m\u001b[0;34m]\u001b[0m\u001b[0;34m)\u001b[0m\u001b[0;34m\u001b[0m\u001b[0;34m\u001b[0m\u001b[0m\n\u001b[0m\u001b[1;32m    165\u001b[0m \u001b[0;34m\u001b[0m\u001b[0m\n",
            "\u001b[0;32m/usr/local/lib/python3.10/dist-packages/sklearn/utils/_encode.py\u001b[0m in \u001b[0;36m<listcomp>\u001b[0;34m(.0)\u001b[0m\n\u001b[1;32m    163\u001b[0m     \u001b[0mtable\u001b[0m \u001b[0;34m=\u001b[0m \u001b[0m_nandict\u001b[0m\u001b[0;34m(\u001b[0m\u001b[0;34m{\u001b[0m\u001b[0mval\u001b[0m\u001b[0;34m:\u001b[0m \u001b[0mi\u001b[0m \u001b[0;32mfor\u001b[0m \u001b[0mi\u001b[0m\u001b[0;34m,\u001b[0m \u001b[0mval\u001b[0m \u001b[0;32min\u001b[0m \u001b[0menumerate\u001b[0m\u001b[0;34m(\u001b[0m\u001b[0muniques\u001b[0m\u001b[0;34m)\u001b[0m\u001b[0;34m}\u001b[0m\u001b[0;34m)\u001b[0m\u001b[0;34m\u001b[0m\u001b[0;34m\u001b[0m\u001b[0m\n\u001b[0;32m--> 164\u001b[0;31m     \u001b[0;32mreturn\u001b[0m \u001b[0mnp\u001b[0m\u001b[0;34m.\u001b[0m\u001b[0marray\u001b[0m\u001b[0;34m(\u001b[0m\u001b[0;34m[\u001b[0m\u001b[0mtable\u001b[0m\u001b[0;34m[\u001b[0m\u001b[0mv\u001b[0m\u001b[0;34m]\u001b[0m \u001b[0;32mfor\u001b[0m \u001b[0mv\u001b[0m \u001b[0;32min\u001b[0m \u001b[0mvalues\u001b[0m\u001b[0;34m]\u001b[0m\u001b[0;34m)\u001b[0m\u001b[0;34m\u001b[0m\u001b[0;34m\u001b[0m\u001b[0m\n\u001b[0m\u001b[1;32m    165\u001b[0m \u001b[0;34m\u001b[0m\u001b[0m\n",
            "\u001b[0;32m/usr/local/lib/python3.10/dist-packages/sklearn/utils/_encode.py\u001b[0m in \u001b[0;36m__missing__\u001b[0;34m(self, key)\u001b[0m\n\u001b[1;32m    157\u001b[0m             \u001b[0;32mreturn\u001b[0m \u001b[0mself\u001b[0m\u001b[0;34m.\u001b[0m\u001b[0mnan_value\u001b[0m\u001b[0;34m\u001b[0m\u001b[0;34m\u001b[0m\u001b[0m\n\u001b[0;32m--> 158\u001b[0;31m         \u001b[0;32mraise\u001b[0m \u001b[0mKeyError\u001b[0m\u001b[0;34m(\u001b[0m\u001b[0mkey\u001b[0m\u001b[0;34m)\u001b[0m\u001b[0;34m\u001b[0m\u001b[0;34m\u001b[0m\u001b[0m\n\u001b[0m\u001b[1;32m    159\u001b[0m \u001b[0;34m\u001b[0m\u001b[0m\n",
            "\u001b[0;31mKeyError\u001b[0m: 1",
            "\nDuring handling of the above exception, another exception occurred:\n",
            "\u001b[0;31mValueError\u001b[0m                                Traceback (most recent call last)",
            "\u001b[0;32m<ipython-input-46-9b2348bb4f6f>\u001b[0m in \u001b[0;36m<cell line: 30>\u001b[0;34m()\u001b[0m\n\u001b[1;32m     28\u001b[0m \u001b[0;34m\u001b[0m\u001b[0m\n\u001b[1;32m     29\u001b[0m \u001b[0;31m# Transform the input dataframe\u001b[0m\u001b[0;34m\u001b[0m\u001b[0;34m\u001b[0m\u001b[0m\n\u001b[0;32m---> 30\u001b[0;31m \u001b[0minput_df\u001b[0m\u001b[0;34m[\u001b[0m\u001b[0;34m'day_of_week'\u001b[0m\u001b[0;34m]\u001b[0m \u001b[0;34m=\u001b[0m \u001b[0mle_day_of_week\u001b[0m\u001b[0;34m.\u001b[0m\u001b[0mtransform\u001b[0m\u001b[0;34m(\u001b[0m\u001b[0minput_df\u001b[0m\u001b[0;34m[\u001b[0m\u001b[0;34m'day_of_week'\u001b[0m\u001b[0;34m]\u001b[0m\u001b[0;34m)\u001b[0m\u001b[0;34m\u001b[0m\u001b[0;34m\u001b[0m\u001b[0m\n\u001b[0m\u001b[1;32m     31\u001b[0m \u001b[0minput_df\u001b[0m\u001b[0;34m[\u001b[0m\u001b[0;34m'time_of_day'\u001b[0m\u001b[0;34m]\u001b[0m \u001b[0;34m=\u001b[0m \u001b[0mle_time_of_day\u001b[0m\u001b[0;34m.\u001b[0m\u001b[0mtransform\u001b[0m\u001b[0;34m(\u001b[0m\u001b[0minput_df\u001b[0m\u001b[0;34m[\u001b[0m\u001b[0;34m'time_of_day'\u001b[0m\u001b[0;34m]\u001b[0m\u001b[0;34m)\u001b[0m\u001b[0;34m\u001b[0m\u001b[0;34m\u001b[0m\u001b[0m\n\u001b[1;32m     32\u001b[0m \u001b[0minput_df\u001b[0m\u001b[0;34m[\u001b[0m\u001b[0;34m'browser_event'\u001b[0m\u001b[0;34m]\u001b[0m \u001b[0;34m=\u001b[0m \u001b[0mle_browser_event\u001b[0m\u001b[0;34m.\u001b[0m\u001b[0mtransform\u001b[0m\u001b[0;34m(\u001b[0m\u001b[0minput_df\u001b[0m\u001b[0;34m[\u001b[0m\u001b[0;34m'browser_event'\u001b[0m\u001b[0;34m]\u001b[0m\u001b[0;34m)\u001b[0m\u001b[0;34m\u001b[0m\u001b[0;34m\u001b[0m\u001b[0m\n",
            "\u001b[0;32m/usr/local/lib/python3.10/dist-packages/sklearn/utils/_set_output.py\u001b[0m in \u001b[0;36mwrapped\u001b[0;34m(self, X, *args, **kwargs)\u001b[0m\n\u001b[1;32m    138\u001b[0m     \u001b[0;34m@\u001b[0m\u001b[0mwraps\u001b[0m\u001b[0;34m(\u001b[0m\u001b[0mf\u001b[0m\u001b[0;34m)\u001b[0m\u001b[0;34m\u001b[0m\u001b[0;34m\u001b[0m\u001b[0m\n\u001b[1;32m    139\u001b[0m     \u001b[0;32mdef\u001b[0m \u001b[0mwrapped\u001b[0m\u001b[0;34m(\u001b[0m\u001b[0mself\u001b[0m\u001b[0;34m,\u001b[0m \u001b[0mX\u001b[0m\u001b[0;34m,\u001b[0m \u001b[0;34m*\u001b[0m\u001b[0margs\u001b[0m\u001b[0;34m,\u001b[0m \u001b[0;34m**\u001b[0m\u001b[0mkwargs\u001b[0m\u001b[0;34m)\u001b[0m\u001b[0;34m:\u001b[0m\u001b[0;34m\u001b[0m\u001b[0;34m\u001b[0m\u001b[0m\n\u001b[0;32m--> 140\u001b[0;31m         \u001b[0mdata_to_wrap\u001b[0m \u001b[0;34m=\u001b[0m \u001b[0mf\u001b[0m\u001b[0;34m(\u001b[0m\u001b[0mself\u001b[0m\u001b[0;34m,\u001b[0m \u001b[0mX\u001b[0m\u001b[0;34m,\u001b[0m \u001b[0;34m*\u001b[0m\u001b[0margs\u001b[0m\u001b[0;34m,\u001b[0m \u001b[0;34m**\u001b[0m\u001b[0mkwargs\u001b[0m\u001b[0;34m)\u001b[0m\u001b[0;34m\u001b[0m\u001b[0;34m\u001b[0m\u001b[0m\n\u001b[0m\u001b[1;32m    141\u001b[0m         \u001b[0;32mif\u001b[0m \u001b[0misinstance\u001b[0m\u001b[0;34m(\u001b[0m\u001b[0mdata_to_wrap\u001b[0m\u001b[0;34m,\u001b[0m \u001b[0mtuple\u001b[0m\u001b[0;34m)\u001b[0m\u001b[0;34m:\u001b[0m\u001b[0;34m\u001b[0m\u001b[0;34m\u001b[0m\u001b[0m\n\u001b[1;32m    142\u001b[0m             \u001b[0;31m# only wrap the first output for cross decomposition\u001b[0m\u001b[0;34m\u001b[0m\u001b[0;34m\u001b[0m\u001b[0m\n",
            "\u001b[0;32m/usr/local/lib/python3.10/dist-packages/sklearn/preprocessing/_label.py\u001b[0m in \u001b[0;36mtransform\u001b[0;34m(self, y)\u001b[0m\n\u001b[1;32m    137\u001b[0m             \u001b[0;32mreturn\u001b[0m \u001b[0mnp\u001b[0m\u001b[0;34m.\u001b[0m\u001b[0marray\u001b[0m\u001b[0;34m(\u001b[0m\u001b[0;34m[\u001b[0m\u001b[0;34m]\u001b[0m\u001b[0;34m)\u001b[0m\u001b[0;34m\u001b[0m\u001b[0;34m\u001b[0m\u001b[0m\n\u001b[1;32m    138\u001b[0m \u001b[0;34m\u001b[0m\u001b[0m\n\u001b[0;32m--> 139\u001b[0;31m         \u001b[0;32mreturn\u001b[0m \u001b[0m_encode\u001b[0m\u001b[0;34m(\u001b[0m\u001b[0my\u001b[0m\u001b[0;34m,\u001b[0m \u001b[0muniques\u001b[0m\u001b[0;34m=\u001b[0m\u001b[0mself\u001b[0m\u001b[0;34m.\u001b[0m\u001b[0mclasses_\u001b[0m\u001b[0;34m)\u001b[0m\u001b[0;34m\u001b[0m\u001b[0;34m\u001b[0m\u001b[0m\n\u001b[0m\u001b[1;32m    140\u001b[0m \u001b[0;34m\u001b[0m\u001b[0m\n\u001b[1;32m    141\u001b[0m     \u001b[0;32mdef\u001b[0m \u001b[0minverse_transform\u001b[0m\u001b[0;34m(\u001b[0m\u001b[0mself\u001b[0m\u001b[0;34m,\u001b[0m \u001b[0my\u001b[0m\u001b[0;34m)\u001b[0m\u001b[0;34m:\u001b[0m\u001b[0;34m\u001b[0m\u001b[0;34m\u001b[0m\u001b[0m\n",
            "\u001b[0;32m/usr/local/lib/python3.10/dist-packages/sklearn/utils/_encode.py\u001b[0m in \u001b[0;36m_encode\u001b[0;34m(values, uniques, check_unknown)\u001b[0m\n\u001b[1;32m    224\u001b[0m             \u001b[0;32mreturn\u001b[0m \u001b[0m_map_to_integer\u001b[0m\u001b[0;34m(\u001b[0m\u001b[0mvalues\u001b[0m\u001b[0;34m,\u001b[0m \u001b[0muniques\u001b[0m\u001b[0;34m)\u001b[0m\u001b[0;34m\u001b[0m\u001b[0;34m\u001b[0m\u001b[0m\n\u001b[1;32m    225\u001b[0m         \u001b[0;32mexcept\u001b[0m \u001b[0mKeyError\u001b[0m \u001b[0;32mas\u001b[0m \u001b[0me\u001b[0m\u001b[0;34m:\u001b[0m\u001b[0;34m\u001b[0m\u001b[0;34m\u001b[0m\u001b[0m\n\u001b[0;32m--> 226\u001b[0;31m             \u001b[0;32mraise\u001b[0m \u001b[0mValueError\u001b[0m\u001b[0;34m(\u001b[0m\u001b[0;34mf\"y contains previously unseen labels: {str(e)}\"\u001b[0m\u001b[0;34m)\u001b[0m\u001b[0;34m\u001b[0m\u001b[0;34m\u001b[0m\u001b[0m\n\u001b[0m\u001b[1;32m    227\u001b[0m     \u001b[0;32melse\u001b[0m\u001b[0;34m:\u001b[0m\u001b[0;34m\u001b[0m\u001b[0;34m\u001b[0m\u001b[0m\n\u001b[1;32m    228\u001b[0m         \u001b[0;32mif\u001b[0m \u001b[0mcheck_unknown\u001b[0m\u001b[0;34m:\u001b[0m\u001b[0;34m\u001b[0m\u001b[0;34m\u001b[0m\u001b[0m\n",
            "\u001b[0;31mValueError\u001b[0m: y contains previously unseen labels: 1"
          ]
        }
      ]
    },
    {
      "cell_type": "markdown",
      "source": [
        "# Model - Support Vector Regression (SVR)\n",
        "\n",
        "\n"
      ],
      "metadata": {
        "id": "lNOGY3dyGlLt"
      }
    },
    {
      "cell_type": "code",
      "source": [
        "df.columns"
      ],
      "metadata": {
        "colab": {
          "base_uri": "https://localhost:8080/"
        },
        "id": "j9UJFIT0Groh",
        "outputId": "abd7d1c1-d32b-43ab-85d5-0d1a445034e9"
      },
      "execution_count": 25,
      "outputs": [
        {
          "output_type": "execute_result",
          "data": {
            "text/plain": [
              "Index(['id', 'url', 'browser_event', 'platform', 'user', 'task_id',\n",
              "       'assignment_id', 'accepted_at', 'deadline',\n",
              "       'time_to_deadline_in_seconds', 'task_url', 'project_title',\n",
              "       'project_description', 'assignment_duration_in_seconds',\n",
              "       'amount_in_dollars', 'time_started', 'time_taken', 'time_of_day',\n",
              "       'day_of_week'],\n",
              "      dtype='object')"
            ]
          },
          "metadata": {},
          "execution_count": 25
        }
      ]
    },
    {
      "cell_type": "code",
      "source": [
        "# Import necessary libraries\n",
        "import pandas as pd\n",
        "from sklearn.model_selection import train_test_split\n",
        "from sklearn.preprocessing import StandardScaler\n",
        "from sklearn.svm import SVR\n",
        "from sklearn.metrics import mean_squared_error, mean_absolute_error\n",
        "\n",
        "features = ['amount_in_dollars', 'assignment_duration_in_seconds', 'day_of_week', 'time_of_day', 'browser_event', 'project_title']\n",
        "X = df[features]\n",
        "y = df['time_taken']\n",
        "\n",
        "# Convert categorical variables to numerical\n",
        "le = LabelEncoder()\n",
        "X['project_title'] = le.fit_transform(X['project_title'])\n",
        "X['browser_event'] = le.fit_transform(X['browser_event'])\n",
        "X['day_of_week'] = le.fit_transform(X['day_of_week'])\n",
        "X['time_of_day'] = le.fit_transform(X['time_of_day'])\n",
        "\n",
        "# Split data into training and testing sets\n",
        "X_train, X_test, y_train, y_test = train_test_split(X, y, test_size=0.2, random_state=42)\n",
        "\n",
        "# Standardize features\n",
        "scaler = StandardScaler()\n",
        "X_train_scaled = scaler.fit_transform(X_train)\n",
        "X_test_scaled = scaler.transform(X_test)\n",
        "\n",
        "# Initialize SVR model\n",
        "svr_model = SVR(kernel='linear', C=1.0)  # You can choose other kernels (e.g., 'rbf', 'poly') and adjust hyperparameters\n",
        "\n",
        "# Train the model\n",
        "svr_model.fit(X_train_scaled, y_train)\n",
        "\n",
        "# Make predictions\n",
        "y_pred = svr_model.predict(X_test_scaled)\n",
        "\n",
        "# Evaluate the model\n",
        "mse = mean_squared_error(y_test, y_pred)\n",
        "mae = mean_absolute_error(y_test, y_pred)\n",
        "\n",
        "print(f\"Mean Squared Error (MSE): {mse:.2f}\")\n",
        "print(f\"Mean Absolute Error (MAE): {mae:.2f}\")\n"
      ],
      "metadata": {
        "colab": {
          "base_uri": "https://localhost:8080/"
        },
        "id": "3BPwgBp6QRcc",
        "outputId": "9e4e7f20-8188-4a5c-e96b-5632b7d05394"
      },
      "execution_count": 28,
      "outputs": [
        {
          "output_type": "stream",
          "name": "stderr",
          "text": [
            "<ipython-input-28-0248dc05d012>:14: SettingWithCopyWarning: \n",
            "A value is trying to be set on a copy of a slice from a DataFrame.\n",
            "Try using .loc[row_indexer,col_indexer] = value instead\n",
            "\n",
            "See the caveats in the documentation: https://pandas.pydata.org/pandas-docs/stable/user_guide/indexing.html#returning-a-view-versus-a-copy\n",
            "  X['project_title'] = le.fit_transform(X['project_title'])\n",
            "<ipython-input-28-0248dc05d012>:15: SettingWithCopyWarning: \n",
            "A value is trying to be set on a copy of a slice from a DataFrame.\n",
            "Try using .loc[row_indexer,col_indexer] = value instead\n",
            "\n",
            "See the caveats in the documentation: https://pandas.pydata.org/pandas-docs/stable/user_guide/indexing.html#returning-a-view-versus-a-copy\n",
            "  X['browser_event'] = le.fit_transform(X['browser_event'])\n",
            "<ipython-input-28-0248dc05d012>:16: SettingWithCopyWarning: \n",
            "A value is trying to be set on a copy of a slice from a DataFrame.\n",
            "Try using .loc[row_indexer,col_indexer] = value instead\n",
            "\n",
            "See the caveats in the documentation: https://pandas.pydata.org/pandas-docs/stable/user_guide/indexing.html#returning-a-view-versus-a-copy\n",
            "  X['day_of_week'] = le.fit_transform(X['day_of_week'])\n",
            "<ipython-input-28-0248dc05d012>:17: SettingWithCopyWarning: \n",
            "A value is trying to be set on a copy of a slice from a DataFrame.\n",
            "Try using .loc[row_indexer,col_indexer] = value instead\n",
            "\n",
            "See the caveats in the documentation: https://pandas.pydata.org/pandas-docs/stable/user_guide/indexing.html#returning-a-view-versus-a-copy\n",
            "  X['time_of_day'] = le.fit_transform(X['time_of_day'])\n"
          ]
        },
        {
          "output_type": "stream",
          "name": "stdout",
          "text": [
            "Mean Squared Error (MSE): 376054389.80\n",
            "Mean Absolute Error (MAE): 2683.27\n"
          ]
        }
      ]
    },
    {
      "cell_type": "code",
      "source": [
        "from sklearn.metrics import mean_absolute_error, mean_squared_error, r2_score\n",
        "\n",
        "# Calculate metrics\n",
        "mae = mean_absolute_error(y_test, y_pred)\n",
        "mse = mean_squared_error(y_test, y_pred)\n",
        "r2 = r2_score(y_test, y_pred)\n",
        "\n",
        "print(f\"Mean Absolute Error: {mae}\")\n",
        "print(f\"Mean Squared Error: {mse}\")\n",
        "print(f\"R-squared (R²): {r2}\")\n"
      ],
      "metadata": {
        "colab": {
          "base_uri": "https://localhost:8080/"
        },
        "id": "SYPbGgqYNkN6",
        "outputId": "88979fa4-f5e7-4adb-fbf3-ee4543111526"
      },
      "execution_count": 29,
      "outputs": [
        {
          "output_type": "stream",
          "name": "stdout",
          "text": [
            "Mean Absolute Error: 2683.2670675768145\n",
            "Mean Squared Error: 376054389.8033555\n",
            "R-squared (R²): 0.022474703746679703\n"
          ]
        }
      ]
    },
    {
      "cell_type": "markdown",
      "source": [
        "# Model - Linear Regression"
      ],
      "metadata": {
        "id": "OHppV7IsUUr9"
      }
    },
    {
      "cell_type": "code",
      "source": [
        "df.columns"
      ],
      "metadata": {
        "colab": {
          "base_uri": "https://localhost:8080/"
        },
        "id": "VhZR5JjuUYMz",
        "outputId": "0936cd99-41f8-4dfc-b36c-688291e4bf8b"
      },
      "execution_count": 30,
      "outputs": [
        {
          "output_type": "execute_result",
          "data": {
            "text/plain": [
              "Index(['id', 'url', 'browser_event', 'platform', 'user', 'task_id',\n",
              "       'assignment_id', 'accepted_at', 'deadline',\n",
              "       'time_to_deadline_in_seconds', 'task_url', 'project_title',\n",
              "       'project_description', 'assignment_duration_in_seconds',\n",
              "       'amount_in_dollars', 'time_started', 'time_taken', 'time_of_day',\n",
              "       'day_of_week'],\n",
              "      dtype='object')"
            ]
          },
          "metadata": {},
          "execution_count": 30
        }
      ]
    },
    {
      "cell_type": "code",
      "source": [
        "import pandas as pd\n",
        "from sklearn.model_selection import train_test_split\n",
        "from sklearn.linear_model import LinearRegression\n",
        "from sklearn.metrics import mean_absolute_error, mean_squared_error, r2_score\n",
        "\n",
        "# Assuming your dataset is in a DataFrame called 'df'\n",
        "features = ['amount_in_dollars', 'assignment_duration_in_seconds', 'day_of_week', 'time_of_day', 'browser_event', 'project_title']\n",
        "X = df[features]\n",
        "y = df['time_taken']\n",
        "\n",
        "# Convert categorical variables to numerical\n",
        "le = LabelEncoder()\n",
        "X['project_title'] = le.fit_transform(X['project_title'])\n",
        "X['browser_event'] = le.fit_transform(X['browser_event'])\n",
        "X['day_of_week'] = le.fit_transform(X['day_of_week'])\n",
        "X['time_of_day'] = le.fit_transform(X['time_of_day'])\n",
        "\n",
        "# Split data into training and testing sets\n",
        "X_train, X_test, y_train, y_test = train_test_split(X, y, test_size=0.2, random_state=42)\n",
        "\n",
        "# Initialize and train the model\n",
        "model = LinearRegression()\n",
        "model.fit(X_train, y_train)\n",
        "\n",
        "# Make predictions on test data\n",
        "y_pred = model.predict(X_test)\n",
        "\n",
        "\n"
      ],
      "metadata": {
        "colab": {
          "base_uri": "https://localhost:8080/"
        },
        "id": "QyF7uFmuVDPw",
        "outputId": "fa13006a-d168-44a1-bb7f-77230bb122e5"
      },
      "execution_count": 33,
      "outputs": [
        {
          "output_type": "stream",
          "name": "stderr",
          "text": [
            "<ipython-input-33-f44ced6444f6>:13: SettingWithCopyWarning: \n",
            "A value is trying to be set on a copy of a slice from a DataFrame.\n",
            "Try using .loc[row_indexer,col_indexer] = value instead\n",
            "\n",
            "See the caveats in the documentation: https://pandas.pydata.org/pandas-docs/stable/user_guide/indexing.html#returning-a-view-versus-a-copy\n",
            "  X['project_title'] = le.fit_transform(X['project_title'])\n",
            "<ipython-input-33-f44ced6444f6>:14: SettingWithCopyWarning: \n",
            "A value is trying to be set on a copy of a slice from a DataFrame.\n",
            "Try using .loc[row_indexer,col_indexer] = value instead\n",
            "\n",
            "See the caveats in the documentation: https://pandas.pydata.org/pandas-docs/stable/user_guide/indexing.html#returning-a-view-versus-a-copy\n",
            "  X['browser_event'] = le.fit_transform(X['browser_event'])\n",
            "<ipython-input-33-f44ced6444f6>:15: SettingWithCopyWarning: \n",
            "A value is trying to be set on a copy of a slice from a DataFrame.\n",
            "Try using .loc[row_indexer,col_indexer] = value instead\n",
            "\n",
            "See the caveats in the documentation: https://pandas.pydata.org/pandas-docs/stable/user_guide/indexing.html#returning-a-view-versus-a-copy\n",
            "  X['day_of_week'] = le.fit_transform(X['day_of_week'])\n",
            "<ipython-input-33-f44ced6444f6>:16: SettingWithCopyWarning: \n",
            "A value is trying to be set on a copy of a slice from a DataFrame.\n",
            "Try using .loc[row_indexer,col_indexer] = value instead\n",
            "\n",
            "See the caveats in the documentation: https://pandas.pydata.org/pandas-docs/stable/user_guide/indexing.html#returning-a-view-versus-a-copy\n",
            "  X['time_of_day'] = le.fit_transform(X['time_of_day'])\n"
          ]
        }
      ]
    },
    {
      "cell_type": "code",
      "source": [
        "# Evaluate the model\n",
        "mae = mean_absolute_error(y_test, y_pred)\n",
        "mse = mean_squared_error(y_test, y_pred)\n",
        "rmse = mean_squared_error(y_test, y_pred, squared=False)\n",
        "r2 = r2_score(y_test, y_pred)\n",
        "\n",
        "print(f\"Mean Absolute Error: {mae:.2f}\")\n",
        "print(f\"Mean Squared Error:  {mse:.2f}\")\n",
        "print(f\"RMSE: {rmse:.2f}\")\n",
        "print(f\"R-squared (R²) {r2:.2f}\")"
      ],
      "metadata": {
        "colab": {
          "base_uri": "https://localhost:8080/"
        },
        "id": "fsGAszdpVSe9",
        "outputId": "8a48aa38-cfaf-4f3b-a549-a9c55bda5496"
      },
      "execution_count": 34,
      "outputs": [
        {
          "output_type": "stream",
          "name": "stdout",
          "text": [
            "Mean Absolute Error: 3754.98\n",
            "Mean Squared Error:  282378861.87\n",
            "RMSE: 16804.13\n",
            "R-squared (R²) 0.27\n"
          ]
        }
      ]
    }
  ]
}